{
 "cells": [
  {
   "cell_type": "code",
   "execution_count": 3,
   "metadata": {},
   "outputs": [
    {
     "name": "stdout",
     "output_type": "stream",
     "text": [
      "Networking: 68\n",
      "Chemistry: 90\n",
      "Physics: 76\n",
      "English: 99\n",
      "Math: 78\n",
      "\n",
      "Obtained Marks =  377\n",
      "\n",
      "Total Marks: 377\n",
      "\n",
      "Obtained 'A' Grade \n",
      "Percentage =  100.0 %\n"
     ]
    }
   ],
   "source": [
    "Networking = (input(\"Networking: \"))\n",
    "chemistry = (input(\"Chemistry: \"))\n",
    "physics = (input(\"Physics: \"))\n",
    "English = (input(\"English: \"))\n",
    "math = (input(\"Math: \"))\n",
    "\n",
    "Networking = int(Networking)\n",
    "chemistry = int(Chemistry)\n",
    "physics = int(Physics)\n",
    "english = int(English)\n",
    "math = int(Math)\n",
    "\n",
    "ObtainedMarks = math + physics + chemistry + english + Networking\n",
    "print(\"\\nObtained Marks = \",ObtainedMarks)\n",
    "Total = int(input(\"\\nTotal Marks: \"))\n",
    "\n",
    "Percentage = (ObtainedMarks / Total) * 100\n",
    "if(Percentage >= 80):\n",
    "    print(\"\\nObtained 'A' Grade\",\"\\nPercentage = \",Percentage,\"%\")\n",
    "elif(Percentage >= 70) and (Percentage < 80):\n",
    "    print(\"\\nObtained 'B' Grade\",\"\\nPercentage = \",Percentage,\"%\")\n",
    "elif(Percentage >= 60) and (Percentage < 70):\n",
    "    print(\"\\nObtained 'C' Grade\",\"\\nPercentage = \",Percentage,\"%\")\n",
    "elif(Percentage >= 50) and (Percentage < 60):\n",
    "    print(\"\\nObtained 'D' Grade\",\"\\nPercentage = \",Percentage,\"%\")\n",
    "else:\n",
    "    print(\"\\nFail\")"
   ]
  },
  {
   "cell_type": "code",
   "execution_count": 4,
   "metadata": {},
   "outputs": [
    {
     "name": "stdout",
     "output_type": "stream",
     "text": [
      "Enter the number: 7\n",
      "7  is Odd number\n"
     ]
    }
   ],
   "source": [
    "num = int(input('Enter the number: '))\n",
    "if (num%2==0):\n",
    "     print(num,\" is Even number\")\n",
    "else:\n",
    "    print(num,\" is Odd number\")"
   ]
  },
  {
   "cell_type": "code",
   "execution_count": 5,
   "metadata": {},
   "outputs": [
    {
     "name": "stdout",
     "output_type": "stream",
     "text": [
      "7\n"
     ]
    }
   ],
   "source": [
    "List = [11,2,\"Saira\",4,15,6,\"Memon\"]\n",
    "print(len(List))"
   ]
  },
  {
   "cell_type": "code",
   "execution_count": 7,
   "metadata": {},
   "outputs": [
    {
     "name": "stdout",
     "output_type": "stream",
     "text": [
      "375\n"
     ]
    }
   ],
   "source": [
    "List = [9,56,68,64,78,100]\n",
    "print(sum(List))"
   ]
  },
  {
   "cell_type": "code",
   "execution_count": 8,
   "metadata": {},
   "outputs": [
    {
     "name": "stdout",
     "output_type": "stream",
     "text": [
      "Largest number is:  209\n"
     ]
    }
   ],
   "source": [
    "List = [10, 209, 120, 145, 99] \n",
    "List.sort()  \n",
    "print(\"Largest number is: \", List[-1]) "
   ]
  },
  {
   "cell_type": "code",
   "execution_count": 9,
   "metadata": {},
   "outputs": [
    {
     "name": "stdout",
     "output_type": "stream",
     "text": [
      "1\n",
      "\n",
      "1\n",
      "\n",
      "2\n",
      "\n",
      "3\n",
      "\n",
      "3\n",
      "\n",
      "1\n",
      "\n"
     ]
    }
   ],
   "source": [
    "testt_list= [1, 1, 2, 3, 5, 8, 13, 21 , 3, 34, 55, 89, 1]\n",
    "for element in testt_list:\n",
    "    if(int(element) <5):\n",
    "        print(str(element)+\"\\n\")"
   ]
  },
  {
   "cell_type": "code",
   "execution_count": null,
   "metadata": {},
   "outputs": [],
   "source": []
  },
  {
   "cell_type": "code",
   "execution_count": null,
   "metadata": {},
   "outputs": [],
   "source": []
  }
 ],
 "metadata": {
  "kernelspec": {
   "display_name": "Python 3",
   "language": "python",
   "name": "python3"
  },
  "language_info": {
   "codemirror_mode": {
    "name": "ipython",
    "version": 3
   },
   "file_extension": ".py",
   "mimetype": "text/x-python",
   "name": "python",
   "nbconvert_exporter": "python",
   "pygments_lexer": "ipython3",
   "version": "3.7.4"
  }
 },
 "nbformat": 4,
 "nbformat_minor": 2
}
