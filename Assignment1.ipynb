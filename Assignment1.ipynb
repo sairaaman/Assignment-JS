{
 "cells": [
  {
   "cell_type": "code",
   "execution_count": 27,
   "metadata": {},
   "outputs": [
    {
     "name": "stdout",
     "output_type": "stream",
     "text": [
      "Twinkle, twinkle, little star\n",
      " \tHow I wonder what you are!\n",
      " \t \t Up above the world so high,\n",
      " \t \t Like a diamond in the sky.\n",
      "Twinkle, twinkle, little star\n",
      " \tHow I wonder what you are\n",
      " \t\n"
     ]
    }
   ],
   "source": [
    "a='Twinkle, twinkle, little star'\n",
    "b='How I wonder what you are!'\n",
    "c='Up above the world so high,'\n",
    "d='Like a diamond in the sky.'\n",
    "e='Twinkle, twinkle, little star'\n",
    "f='How I wonder what you are'\n",
    "print(a+'\\n \\t'+ b + '\\n \\t \\t '+c+ '\\n \\t \\t '+ d +'\\n'+ e + '\\n \\t'+ f + '\\n \\t')"
   ]
  },
  {
   "cell_type": "code",
   "execution_count": 29,
   "metadata": {},
   "outputs": [
    {
     "name": "stdout",
     "output_type": "stream",
     "text": [
      "2019-11-03 00:34:41.316384\n"
     ]
    }
   ],
   "source": [
    "import datetime\n",
    "now=datetime.datetime.now()\n",
    "print(now)\n"
   ]
  },
  {
   "cell_type": "code",
   "execution_count": 31,
   "metadata": {},
   "outputs": [
    {
     "name": "stdout",
     "output_type": "stream",
     "text": [
      "python version\n",
      "3.7.4 (default, Aug  9 2019, 18:34:13) [MSC v.1915 64 bit (AMD64)]\n",
      "version.info\n",
      "sys.version_info(major=3, minor=7, micro=4, releaselevel='final', serial=0)\n"
     ]
    }
   ],
   "source": [
    "import sys\n",
    "print(\"python version\")\n",
    "print(sys.version)\n",
    "print('version.info')\n",
    "print(sys.version_info)"
   ]
  },
  {
   "cell_type": "code",
   "execution_count": 37,
   "metadata": {},
   "outputs": [
    {
     "name": "stdout",
     "output_type": "stream",
     "text": [
      "Enter the radius=4\n",
      "Area of circle is = 50.285714285714285\n"
     ]
    }
   ],
   "source": [
    "\n",
    "a=float(input('Enter the radius='))\n",
    "area=(22/7)*float(a**2)\n",
    "print('Area of circle is =',area)\n",
    "\n",
    "\n"
   ]
  },
  {
   "cell_type": "code",
   "execution_count": 39,
   "metadata": {},
   "outputs": [
    {
     "name": "stdout",
     "output_type": "stream",
     "text": [
      "Enter the firstnameSaira\n",
      "Enter the lastnameMemon\n",
      "Memon Saira\n"
     ]
    }
   ],
   "source": [
    "firstName=input('Enter the firstname')\n",
    "lastName=input('Enter the lastname')\n",
    "c=lastName+ ' '+firstName\n",
    "print(c)"
   ]
  },
  {
   "cell_type": "code",
   "execution_count": 2,
   "metadata": {},
   "outputs": [
    {
     "name": "stdout",
     "output_type": "stream",
     "text": [
      "Enter the first number4\n",
      "Enter the second number5\n",
      "9\n"
     ]
    }
   ],
   "source": [
    "in1=input('Enter the first number')\n",
    "in2=input('Enter the second number')\n",
    "s=int(in1)+int(in2)\n",
    "print(s)"
   ]
  },
  {
   "cell_type": "code",
   "execution_count": null,
   "metadata": {},
   "outputs": [],
   "source": []
  },
  {
   "cell_type": "code",
   "execution_count": null,
   "metadata": {},
   "outputs": [],
   "source": []
  }
 ],
 "metadata": {
  "kernelspec": {
   "display_name": "Python 3",
   "language": "python",
   "name": "python3"
  },
  "language_info": {
   "codemirror_mode": {
    "name": "ipython",
    "version": 3
   },
   "file_extension": ".py",
   "mimetype": "text/x-python",
   "name": "python",
   "nbconvert_exporter": "python",
   "pygments_lexer": "ipython3",
   "version": "3.7.4"
  }
 },
 "nbformat": 4,
 "nbformat_minor": 2
}
