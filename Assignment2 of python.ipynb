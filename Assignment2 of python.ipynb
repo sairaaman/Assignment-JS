{
 "cells": [
  {
   "cell_type": "code",
   "execution_count": null,
   "metadata": {},
   "outputs": [],
   "source": [
    "S=int(input('is Enter the number: '))\n",
    "if (S%2==0):\n",
    "     print(S,\"is Even number\")\n",
    "else:\n",
    "    print(S,\"is Odd number\")"
   ]
  },
  {
   "cell_type": "code",
   "execution_count": null,
   "metadata": {},
   "outputs": [],
   "source": [
    "LIST=[1,2,\"saira\",5,6,\"MEMON\"]\n",
    "print(len(LIST))"
   ]
  },
  {
   "cell_type": "code",
   "execution_count": null,
   "metadata": {},
   "outputs": [],
   "source": [
    "numbers = [11,2,3,14,5,1,4,15] \n",
    "Sum = sum(numbers) \n",
    "print(Sum) \n",
    "  "
   ]
  },
  {
   "cell_type": "code",
   "execution_count": null,
   "metadata": {},
   "outputs": [],
   "source": [
    "list4 = [100, 202, 204, 145, 99] \n",
    "list4.sort()  \n",
    "print(\"Largest element is:\", list4[-1]) "
   ]
  },
  {
   "cell_type": "code",
   "execution_count": null,
   "metadata": {},
   "outputs": [],
   "source": [
    "a = [1, 1, 2, 3, 5, 8, 13, 21, 34, 55, 89]\n",
    "listt = []\n",
    "for item in a:\n",
    "\tif item < 5:\n",
    "listt.append(item)\n",
    "print(listt)"
   ]
  },
  {
   "cell_type": "code",
   "execution_count": null,
   "metadata": {},
   "outputs": [],
   "source": [
    "sub1=int(input(\"Enter The Marks of subject1: \"))\n",
    "sub2=int(input(\"Enter The Marks of subject2: \"))\n",
    "sub3=int(input(\"Enter The Marks of subject3: \"))\n",
    "sub4=int(input(\"Enter The Marks of subject4: \"))\n",
    "sub5=int(input(\"Enter The Marks of subject5: \"))\n",
    "sub6=int(input(\"Enter The Marks of subject6: \"))\n",
    "total=sub1+sub2+sub3+sub4+sub5+sub6\n",
    "print(\"MATHS:\",sub1)\n",
    "print(\"English:\",sub2)\n",
    "print(\"DIGITAL SIGNALING:\",sub3)\n",
    "print(\"FIBER OPTICS:\",sub4)\n",
    "print(\"COMPUTER NETWORKING:\",sub5)\n",
    "print(\"SINDHI:\",sub6)\n",
    "print(\"total:\",total)\n"
   ]
  }
 ],
 "metadata": {
  "kernelspec": {
   "display_name": "Python 3",
   "language": "python",
   "name": "python3"
  },
  "language_info": {
   "codemirror_mode": {
    "name": "ipython",
    "version": 3
   },
   "file_extension": ".py",
   "mimetype": "text/x-python",
   "name": "python",
   "nbconvert_exporter": "python",
   "pygments_lexer": "ipython3",
   "version": "3.7.4"
  }
 },
 "nbformat": 4,
 "nbformat_minor": 2
}
