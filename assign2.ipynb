{
 "cells": [
  {
   "cell_type": "code",
   "execution_count": null,
   "metadata": {},
   "outputs": [],
   "source": [
    "marks=int(input('Enter the marks:'))\n",
    "if(marks<80 & marks<100):\n",
    "print('Grade: A+')\n",
    "elif(marks<70&marks<79):\n",
    "print('Grade: A')\n",
    "elif(marks<60&marks<69):\n",
    "print('Grade: B')\n",
    "elif(marks<50&marks<59):\n",
    "print('Grade: C') \n",
    "elif(marks<40&marks<49):\n",
    "print('Grade: D')\n",
    "elif(marks<32&marks<39):\n",
    "print('Grade: E')\n",
    "elif(marks<0&marks<32):\n",
    "print('Grade: F')\n",
    "elif(marks>100&marks<0):\n",
    "print('invalid marks')"
   ]
  },
  {
   "cell_type": "code",
   "execution_count": null,
   "metadata": {},
   "outputs": [],
   "source": []
  }
 ],
 "metadata": {
  "kernelspec": {
   "display_name": "Python 3",
   "language": "python",
   "name": "python3"
  },
  "language_info": {
   "codemirror_mode": {
    "name": "ipython",
    "version": 3
   },
   "file_extension": ".py",
   "mimetype": "text/x-python",
   "name": "python",
   "nbconvert_exporter": "python",
   "pygments_lexer": "ipython3",
   "version": "3.7.4"
  }
 },
 "nbformat": 4,
 "nbformat_minor": 2
}
